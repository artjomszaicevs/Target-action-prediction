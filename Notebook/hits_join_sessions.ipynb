{
 "cells": [
  {
   "cell_type": "markdown",
   "id": "e0e334ad-e008-4369-a51c-0a8488542836",
   "metadata": {},
   "source": [
    "# Data Understanding"
   ]
  },
  {
   "cell_type": "code",
   "execution_count": 939,
   "id": "ec53d4f3-4187-4345-8826-17873e73dc95",
   "metadata": {},
   "outputs": [],
   "source": [
    "import pandas as pd\n",
    "import numpy as np\n",
    "import missingno as msno\n",
    "import matplotlib.pyplot as plt\n",
    "from sklearn.preprocessing import OneHotEncoder\n",
    "from sklearn.preprocessing import StandardScaler\n",
    "from sklearn.preprocessing import MinMaxScaler\n",
    "from sklearn.tree import DecisionTreeClassifier\n",
    "from sklearn.model_selection import train_test_split, RandomizedSearchCV, cross_validate, cross_val_score\n",
    "from sklearn.metrics import accuracy_score, confusion_matrix, mean_absolute_error\n",
    "from sklearn.linear_model import LogisticRegression, LinearRegression\n",
    "from sklearn.neural_network import MLPClassifier\n",
    "from sklearn.ensemble import RandomForestClassifier\n",
    "from collections import Counter\n",
    "import seaborn as sns\n"
   ]
  },
  {
   "cell_type": "code",
   "execution_count": 940,
   "id": "7fc1d8df-0636-45cc-8727-b8e24a382897",
   "metadata": {},
   "outputs": [
    {
     "name": "stderr",
     "output_type": "stream",
     "text": [
      "/var/folders/3s/h4tbdn8n3bg8g9r44dkph73w0000gn/T/ipykernel_29248/2144210169.py:1: DtypeWarning: Columns (1) have mixed types. Specify dtype option on import or set low_memory=False.\n",
      "  df_sessions = pd.read_csv('data/ga_sessions.csv')\n"
     ]
    }
   ],
   "source": [
    "df_sessions = pd.read_csv('data/ga_sessions.csv')\n",
    "df_hits = pd.read_csv('data/ga_hits.csv')"
   ]
  },
  {
   "cell_type": "code",
   "execution_count": 941,
   "id": "d8346aae-dda2-4f78-8819-1474590c7f55",
   "metadata": {},
   "outputs": [
    {
     "data": {
      "text/html": [
       "<div>\n",
       "<style scoped>\n",
       "    .dataframe tbody tr th:only-of-type {\n",
       "        vertical-align: middle;\n",
       "    }\n",
       "\n",
       "    .dataframe tbody tr th {\n",
       "        vertical-align: top;\n",
       "    }\n",
       "\n",
       "    .dataframe thead th {\n",
       "        text-align: right;\n",
       "    }\n",
       "</style>\n",
       "<table border=\"1\" class=\"dataframe\">\n",
       "  <thead>\n",
       "    <tr style=\"text-align: right;\">\n",
       "      <th></th>\n",
       "      <th>session_id</th>\n",
       "      <th>client_id</th>\n",
       "      <th>visit_date</th>\n",
       "      <th>visit_time</th>\n",
       "      <th>visit_number</th>\n",
       "      <th>utm_source</th>\n",
       "      <th>utm_medium</th>\n",
       "      <th>utm_campaign</th>\n",
       "      <th>utm_adcontent</th>\n",
       "      <th>utm_keyword</th>\n",
       "      <th>device_category</th>\n",
       "      <th>device_os</th>\n",
       "      <th>device_brand</th>\n",
       "      <th>device_model</th>\n",
       "      <th>device_screen_resolution</th>\n",
       "      <th>device_browser</th>\n",
       "      <th>geo_country</th>\n",
       "      <th>geo_city</th>\n",
       "    </tr>\n",
       "  </thead>\n",
       "  <tbody>\n",
       "    <tr>\n",
       "      <th>0</th>\n",
       "      <td>9055434745589932991.1637753792.1637753792</td>\n",
       "      <td>2108382700.163775</td>\n",
       "      <td>2021-11-24</td>\n",
       "      <td>14:36:32</td>\n",
       "      <td>1</td>\n",
       "      <td>ZpYIoDJMcFzVoPFsHGJL</td>\n",
       "      <td>banner</td>\n",
       "      <td>LEoPHuyFvzoNfnzGgfcd</td>\n",
       "      <td>vCIpmpaGBnIQhyYNkXqp</td>\n",
       "      <td>puhZPIYqKXeFPaUviSjo</td>\n",
       "      <td>mobile</td>\n",
       "      <td>Android</td>\n",
       "      <td>Huawei</td>\n",
       "      <td>NaN</td>\n",
       "      <td>360x720</td>\n",
       "      <td>Chrome</td>\n",
       "      <td>Russia</td>\n",
       "      <td>Zlatoust</td>\n",
       "    </tr>\n",
       "    <tr>\n",
       "      <th>1</th>\n",
       "      <td>905544597018549464.1636867290.1636867290</td>\n",
       "      <td>210838531.163687</td>\n",
       "      <td>2021-11-14</td>\n",
       "      <td>08:21:30</td>\n",
       "      <td>1</td>\n",
       "      <td>MvfHsxITijuriZxsqZqt</td>\n",
       "      <td>cpm</td>\n",
       "      <td>FTjNLDyTrXaWYgZymFkV</td>\n",
       "      <td>xhoenQgDQsgfEPYNPwKO</td>\n",
       "      <td>IGUCNvHlhfHpROGclCit</td>\n",
       "      <td>mobile</td>\n",
       "      <td>Android</td>\n",
       "      <td>Samsung</td>\n",
       "      <td>NaN</td>\n",
       "      <td>385x854</td>\n",
       "      <td>Samsung Internet</td>\n",
       "      <td>Russia</td>\n",
       "      <td>Moscow</td>\n",
       "    </tr>\n",
       "    <tr>\n",
       "      <th>2</th>\n",
       "      <td>9055446045651783499.1640648526.1640648526</td>\n",
       "      <td>2108385331.164065</td>\n",
       "      <td>2021-12-28</td>\n",
       "      <td>02:42:06</td>\n",
       "      <td>1</td>\n",
       "      <td>ZpYIoDJMcFzVoPFsHGJL</td>\n",
       "      <td>banner</td>\n",
       "      <td>LEoPHuyFvzoNfnzGgfcd</td>\n",
       "      <td>vCIpmpaGBnIQhyYNkXqp</td>\n",
       "      <td>puhZPIYqKXeFPaUviSjo</td>\n",
       "      <td>mobile</td>\n",
       "      <td>Android</td>\n",
       "      <td>Huawei</td>\n",
       "      <td>NaN</td>\n",
       "      <td>360x720</td>\n",
       "      <td>Chrome</td>\n",
       "      <td>Russia</td>\n",
       "      <td>Krasnoyarsk</td>\n",
       "    </tr>\n",
       "    <tr>\n",
       "      <th>3</th>\n",
       "      <td>9055447046360770272.1622255328.1622255328</td>\n",
       "      <td>2108385564.162225</td>\n",
       "      <td>2021-05-29</td>\n",
       "      <td>05:00:00</td>\n",
       "      <td>1</td>\n",
       "      <td>kjsLglQLzykiRbcDiGcD</td>\n",
       "      <td>cpc</td>\n",
       "      <td>NaN</td>\n",
       "      <td>NOBKLgtuvqYWkXQHeYWM</td>\n",
       "      <td>NaN</td>\n",
       "      <td>mobile</td>\n",
       "      <td>NaN</td>\n",
       "      <td>Xiaomi</td>\n",
       "      <td>NaN</td>\n",
       "      <td>393x786</td>\n",
       "      <td>Chrome</td>\n",
       "      <td>Russia</td>\n",
       "      <td>Moscow</td>\n",
       "    </tr>\n",
       "    <tr>\n",
       "      <th>4</th>\n",
       "      <td>9055447046360770272.1622255345.1622255345</td>\n",
       "      <td>2108385564.162225</td>\n",
       "      <td>2021-05-29</td>\n",
       "      <td>05:00:00</td>\n",
       "      <td>2</td>\n",
       "      <td>kjsLglQLzykiRbcDiGcD</td>\n",
       "      <td>cpc</td>\n",
       "      <td>NaN</td>\n",
       "      <td>NaN</td>\n",
       "      <td>NaN</td>\n",
       "      <td>mobile</td>\n",
       "      <td>NaN</td>\n",
       "      <td>Xiaomi</td>\n",
       "      <td>NaN</td>\n",
       "      <td>393x786</td>\n",
       "      <td>Chrome</td>\n",
       "      <td>Russia</td>\n",
       "      <td>Moscow</td>\n",
       "    </tr>\n",
       "  </tbody>\n",
       "</table>\n",
       "</div>"
      ],
      "text/plain": [
       "                                  session_id          client_id  visit_date  \\\n",
       "0  9055434745589932991.1637753792.1637753792  2108382700.163775  2021-11-24   \n",
       "1   905544597018549464.1636867290.1636867290   210838531.163687  2021-11-14   \n",
       "2  9055446045651783499.1640648526.1640648526  2108385331.164065  2021-12-28   \n",
       "3  9055447046360770272.1622255328.1622255328  2108385564.162225  2021-05-29   \n",
       "4  9055447046360770272.1622255345.1622255345  2108385564.162225  2021-05-29   \n",
       "\n",
       "  visit_time  visit_number            utm_source utm_medium  \\\n",
       "0   14:36:32             1  ZpYIoDJMcFzVoPFsHGJL     banner   \n",
       "1   08:21:30             1  MvfHsxITijuriZxsqZqt        cpm   \n",
       "2   02:42:06             1  ZpYIoDJMcFzVoPFsHGJL     banner   \n",
       "3   05:00:00             1  kjsLglQLzykiRbcDiGcD        cpc   \n",
       "4   05:00:00             2  kjsLglQLzykiRbcDiGcD        cpc   \n",
       "\n",
       "           utm_campaign         utm_adcontent           utm_keyword  \\\n",
       "0  LEoPHuyFvzoNfnzGgfcd  vCIpmpaGBnIQhyYNkXqp  puhZPIYqKXeFPaUviSjo   \n",
       "1  FTjNLDyTrXaWYgZymFkV  xhoenQgDQsgfEPYNPwKO  IGUCNvHlhfHpROGclCit   \n",
       "2  LEoPHuyFvzoNfnzGgfcd  vCIpmpaGBnIQhyYNkXqp  puhZPIYqKXeFPaUviSjo   \n",
       "3                   NaN  NOBKLgtuvqYWkXQHeYWM                   NaN   \n",
       "4                   NaN                   NaN                   NaN   \n",
       "\n",
       "  device_category device_os device_brand device_model  \\\n",
       "0          mobile   Android       Huawei          NaN   \n",
       "1          mobile   Android      Samsung          NaN   \n",
       "2          mobile   Android       Huawei          NaN   \n",
       "3          mobile       NaN       Xiaomi          NaN   \n",
       "4          mobile       NaN       Xiaomi          NaN   \n",
       "\n",
       "  device_screen_resolution    device_browser geo_country     geo_city  \n",
       "0                  360x720            Chrome      Russia     Zlatoust  \n",
       "1                  385x854  Samsung Internet      Russia       Moscow  \n",
       "2                  360x720            Chrome      Russia  Krasnoyarsk  \n",
       "3                  393x786            Chrome      Russia       Moscow  \n",
       "4                  393x786            Chrome      Russia       Moscow  "
      ]
     },
     "execution_count": 941,
     "metadata": {},
     "output_type": "execute_result"
    }
   ],
   "source": [
    "df_sessions.head()"
   ]
  },
  {
   "cell_type": "code",
   "execution_count": 942,
   "id": "78298d6b-7540-42d6-9ddf-35774db80ffc",
   "metadata": {},
   "outputs": [
    {
     "data": {
      "text/html": [
       "<div>\n",
       "<style scoped>\n",
       "    .dataframe tbody tr th:only-of-type {\n",
       "        vertical-align: middle;\n",
       "    }\n",
       "\n",
       "    .dataframe tbody tr th {\n",
       "        vertical-align: top;\n",
       "    }\n",
       "\n",
       "    .dataframe thead th {\n",
       "        text-align: right;\n",
       "    }\n",
       "</style>\n",
       "<table border=\"1\" class=\"dataframe\">\n",
       "  <thead>\n",
       "    <tr style=\"text-align: right;\">\n",
       "      <th></th>\n",
       "      <th>session_id</th>\n",
       "      <th>hit_date</th>\n",
       "      <th>hit_time</th>\n",
       "      <th>hit_number</th>\n",
       "      <th>hit_type</th>\n",
       "      <th>hit_referer</th>\n",
       "      <th>hit_page_path</th>\n",
       "      <th>event_category</th>\n",
       "      <th>event_action</th>\n",
       "      <th>event_label</th>\n",
       "      <th>event_value</th>\n",
       "    </tr>\n",
       "  </thead>\n",
       "  <tbody>\n",
       "    <tr>\n",
       "      <th>0</th>\n",
       "      <td>5639623078712724064.1640254056.1640254056</td>\n",
       "      <td>2021-12-23</td>\n",
       "      <td>597864.0</td>\n",
       "      <td>30</td>\n",
       "      <td>event</td>\n",
       "      <td>NaN</td>\n",
       "      <td>sberauto.com/cars?utm_source_initial=google&amp;ut...</td>\n",
       "      <td>quiz</td>\n",
       "      <td>quiz_show</td>\n",
       "      <td>NaN</td>\n",
       "      <td>NaN</td>\n",
       "    </tr>\n",
       "    <tr>\n",
       "      <th>1</th>\n",
       "      <td>7750352294969115059.1640271109.1640271109</td>\n",
       "      <td>2021-12-23</td>\n",
       "      <td>597331.0</td>\n",
       "      <td>41</td>\n",
       "      <td>event</td>\n",
       "      <td>NaN</td>\n",
       "      <td>sberauto.com/cars/fiat?city=1&amp;city=18&amp;rental_c...</td>\n",
       "      <td>quiz</td>\n",
       "      <td>quiz_show</td>\n",
       "      <td>NaN</td>\n",
       "      <td>NaN</td>\n",
       "    </tr>\n",
       "    <tr>\n",
       "      <th>2</th>\n",
       "      <td>885342191847998240.1640235807.1640235807</td>\n",
       "      <td>2021-12-23</td>\n",
       "      <td>796252.0</td>\n",
       "      <td>49</td>\n",
       "      <td>event</td>\n",
       "      <td>NaN</td>\n",
       "      <td>sberauto.com/cars/all/volkswagen/polo/e994838f...</td>\n",
       "      <td>quiz</td>\n",
       "      <td>quiz_show</td>\n",
       "      <td>NaN</td>\n",
       "      <td>NaN</td>\n",
       "    </tr>\n",
       "    <tr>\n",
       "      <th>3</th>\n",
       "      <td>142526202120934167.1640211014.1640211014</td>\n",
       "      <td>2021-12-23</td>\n",
       "      <td>934292.0</td>\n",
       "      <td>46</td>\n",
       "      <td>event</td>\n",
       "      <td>NaN</td>\n",
       "      <td>sberauto.com/cars?utm_source_initial=yandex&amp;ut...</td>\n",
       "      <td>quiz</td>\n",
       "      <td>quiz_show</td>\n",
       "      <td>NaN</td>\n",
       "      <td>NaN</td>\n",
       "    </tr>\n",
       "    <tr>\n",
       "      <th>4</th>\n",
       "      <td>3450086108837475701.1640265078.1640265078</td>\n",
       "      <td>2021-12-23</td>\n",
       "      <td>768741.0</td>\n",
       "      <td>79</td>\n",
       "      <td>event</td>\n",
       "      <td>NaN</td>\n",
       "      <td>sberauto.com/cars/all/mercedes-benz/cla-klasse...</td>\n",
       "      <td>quiz</td>\n",
       "      <td>quiz_show</td>\n",
       "      <td>NaN</td>\n",
       "      <td>NaN</td>\n",
       "    </tr>\n",
       "  </tbody>\n",
       "</table>\n",
       "</div>"
      ],
      "text/plain": [
       "                                  session_id    hit_date  hit_time  \\\n",
       "0  5639623078712724064.1640254056.1640254056  2021-12-23  597864.0   \n",
       "1  7750352294969115059.1640271109.1640271109  2021-12-23  597331.0   \n",
       "2   885342191847998240.1640235807.1640235807  2021-12-23  796252.0   \n",
       "3   142526202120934167.1640211014.1640211014  2021-12-23  934292.0   \n",
       "4  3450086108837475701.1640265078.1640265078  2021-12-23  768741.0   \n",
       "\n",
       "   hit_number hit_type hit_referer  \\\n",
       "0          30    event         NaN   \n",
       "1          41    event         NaN   \n",
       "2          49    event         NaN   \n",
       "3          46    event         NaN   \n",
       "4          79    event         NaN   \n",
       "\n",
       "                                       hit_page_path event_category  \\\n",
       "0  sberauto.com/cars?utm_source_initial=google&ut...           quiz   \n",
       "1  sberauto.com/cars/fiat?city=1&city=18&rental_c...           quiz   \n",
       "2  sberauto.com/cars/all/volkswagen/polo/e994838f...           quiz   \n",
       "3  sberauto.com/cars?utm_source_initial=yandex&ut...           quiz   \n",
       "4  sberauto.com/cars/all/mercedes-benz/cla-klasse...           quiz   \n",
       "\n",
       "  event_action event_label  event_value  \n",
       "0    quiz_show         NaN          NaN  \n",
       "1    quiz_show         NaN          NaN  \n",
       "2    quiz_show         NaN          NaN  \n",
       "3    quiz_show         NaN          NaN  \n",
       "4    quiz_show         NaN          NaN  "
      ]
     },
     "execution_count": 942,
     "metadata": {},
     "output_type": "execute_result"
    }
   ],
   "source": [
    "df_hits.head()"
   ]
  },
  {
   "cell_type": "code",
   "execution_count": 943,
   "id": "3bf0d258-4fc4-4245-8a1b-5f1625824a7a",
   "metadata": {},
   "outputs": [
    {
     "name": "stdout",
     "output_type": "stream",
     "text": [
      "<class 'pandas.core.frame.DataFrame'>\n",
      "RangeIndex: 1860042 entries, 0 to 1860041\n",
      "Data columns (total 18 columns):\n",
      " #   Column                    Dtype \n",
      "---  ------                    ----- \n",
      " 0   session_id                object\n",
      " 1   client_id                 object\n",
      " 2   visit_date                object\n",
      " 3   visit_time                object\n",
      " 4   visit_number              int64 \n",
      " 5   utm_source                object\n",
      " 6   utm_medium                object\n",
      " 7   utm_campaign              object\n",
      " 8   utm_adcontent             object\n",
      " 9   utm_keyword               object\n",
      " 10  device_category           object\n",
      " 11  device_os                 object\n",
      " 12  device_brand              object\n",
      " 13  device_model              object\n",
      " 14  device_screen_resolution  object\n",
      " 15  device_browser            object\n",
      " 16  geo_country               object\n",
      " 17  geo_city                  object\n",
      "dtypes: int64(1), object(17)\n",
      "memory usage: 255.4+ MB\n"
     ]
    }
   ],
   "source": [
    "df_sessions.info()"
   ]
  },
  {
   "cell_type": "code",
   "execution_count": 944,
   "id": "8731caa5-ae10-4c9d-87f8-3385a84b7db3",
   "metadata": {},
   "outputs": [
    {
     "name": "stdout",
     "output_type": "stream",
     "text": [
      "<class 'pandas.core.frame.DataFrame'>\n",
      "RangeIndex: 15726470 entries, 0 to 15726469\n",
      "Data columns (total 11 columns):\n",
      " #   Column          Dtype  \n",
      "---  ------          -----  \n",
      " 0   session_id      object \n",
      " 1   hit_date        object \n",
      " 2   hit_time        float64\n",
      " 3   hit_number      int64  \n",
      " 4   hit_type        object \n",
      " 5   hit_referer     object \n",
      " 6   hit_page_path   object \n",
      " 7   event_category  object \n",
      " 8   event_action    object \n",
      " 9   event_label     object \n",
      " 10  event_value     float64\n",
      "dtypes: float64(2), int64(1), object(8)\n",
      "memory usage: 1.3+ GB\n"
     ]
    }
   ],
   "source": [
    "df_hits.info()"
   ]
  },
  {
   "cell_type": "code",
   "execution_count": 945,
   "id": "026f8fbf-722f-4081-9770-c1b8342bd849",
   "metadata": {},
   "outputs": [],
   "source": [
    "# соеденим две таблицы в одну по общим признакам"
   ]
  },
  {
   "cell_type": "code",
   "execution_count": 946,
   "id": "7b880a2d-af50-4c88-ab70-841fad98e877",
   "metadata": {},
   "outputs": [],
   "source": [
    "merged_df = pd.merge(df_sessions, df_hits, left_on=['session_id', 'visit_date'], right_on=['session_id', 'hit_date'], how='inner')"
   ]
  },
  {
   "cell_type": "code",
   "execution_count": 947,
   "id": "49a933f0-6e8e-4776-b4c1-be79fec7813a",
   "metadata": {},
   "outputs": [],
   "source": [
    "# удалим дубликаты"
   ]
  },
  {
   "cell_type": "code",
   "execution_count": 948,
   "id": "f6c7b038-5fc3-43e1-8e8b-2afee08d464b",
   "metadata": {},
   "outputs": [],
   "source": [
    "merged_df = merged_df.drop_duplicates(subset=['session_id', 'hit_date'], keep='first')"
   ]
  },
  {
   "cell_type": "code",
   "execution_count": 949,
   "id": "118a781e-b290-4455-8c57-41b0c186a49f",
   "metadata": {},
   "outputs": [
    {
     "name": "stdout",
     "output_type": "stream",
     "text": [
      "<class 'pandas.core.frame.DataFrame'>\n",
      "Index: 1732266 entries, 0 to 15685206\n",
      "Data columns (total 28 columns):\n",
      " #   Column                    Dtype  \n",
      "---  ------                    -----  \n",
      " 0   session_id                object \n",
      " 1   client_id                 object \n",
      " 2   visit_date                object \n",
      " 3   visit_time                object \n",
      " 4   visit_number              int64  \n",
      " 5   utm_source                object \n",
      " 6   utm_medium                object \n",
      " 7   utm_campaign              object \n",
      " 8   utm_adcontent             object \n",
      " 9   utm_keyword               object \n",
      " 10  device_category           object \n",
      " 11  device_os                 object \n",
      " 12  device_brand              object \n",
      " 13  device_model              object \n",
      " 14  device_screen_resolution  object \n",
      " 15  device_browser            object \n",
      " 16  geo_country               object \n",
      " 17  geo_city                  object \n",
      " 18  hit_date                  object \n",
      " 19  hit_time                  float64\n",
      " 20  hit_number                int64  \n",
      " 21  hit_type                  object \n",
      " 22  hit_referer               object \n",
      " 23  hit_page_path             object \n",
      " 24  event_category            object \n",
      " 25  event_action              object \n",
      " 26  event_label               object \n",
      " 27  event_value               float64\n",
      "dtypes: float64(2), int64(2), object(24)\n",
      "memory usage: 383.3+ MB\n"
     ]
    }
   ],
   "source": [
    "merged_df.info()"
   ]
  },
  {
   "cell_type": "code",
   "execution_count": 950,
   "id": "4686f306-291a-441e-9a2b-7058b71a4dea",
   "metadata": {},
   "outputs": [
    {
     "data": {
      "text/html": [
       "<div>\n",
       "<style scoped>\n",
       "    .dataframe tbody tr th:only-of-type {\n",
       "        vertical-align: middle;\n",
       "    }\n",
       "\n",
       "    .dataframe tbody tr th {\n",
       "        vertical-align: top;\n",
       "    }\n",
       "\n",
       "    .dataframe thead th {\n",
       "        text-align: right;\n",
       "    }\n",
       "</style>\n",
       "<table border=\"1\" class=\"dataframe\">\n",
       "  <thead>\n",
       "    <tr style=\"text-align: right;\">\n",
       "      <th></th>\n",
       "      <th>session_id</th>\n",
       "      <th>client_id</th>\n",
       "      <th>visit_date</th>\n",
       "      <th>visit_time</th>\n",
       "      <th>visit_number</th>\n",
       "      <th>utm_source</th>\n",
       "      <th>utm_medium</th>\n",
       "      <th>utm_campaign</th>\n",
       "      <th>utm_adcontent</th>\n",
       "      <th>utm_keyword</th>\n",
       "      <th>...</th>\n",
       "      <th>hit_date</th>\n",
       "      <th>hit_time</th>\n",
       "      <th>hit_number</th>\n",
       "      <th>hit_type</th>\n",
       "      <th>hit_referer</th>\n",
       "      <th>hit_page_path</th>\n",
       "      <th>event_category</th>\n",
       "      <th>event_action</th>\n",
       "      <th>event_label</th>\n",
       "      <th>event_value</th>\n",
       "    </tr>\n",
       "  </thead>\n",
       "  <tbody>\n",
       "    <tr>\n",
       "      <th>0</th>\n",
       "      <td>9055434745589932991.1637753792.1637753792</td>\n",
       "      <td>2108382700.163775</td>\n",
       "      <td>2021-11-24</td>\n",
       "      <td>14:36:32</td>\n",
       "      <td>1</td>\n",
       "      <td>ZpYIoDJMcFzVoPFsHGJL</td>\n",
       "      <td>banner</td>\n",
       "      <td>LEoPHuyFvzoNfnzGgfcd</td>\n",
       "      <td>vCIpmpaGBnIQhyYNkXqp</td>\n",
       "      <td>puhZPIYqKXeFPaUviSjo</td>\n",
       "      <td>...</td>\n",
       "      <td>2021-11-24</td>\n",
       "      <td>3665.0</td>\n",
       "      <td>3</td>\n",
       "      <td>event</td>\n",
       "      <td>NaN</td>\n",
       "      <td>podpiska.sberauto.com/</td>\n",
       "      <td>sub_page_view</td>\n",
       "      <td>sub_landing</td>\n",
       "      <td>NaN</td>\n",
       "      <td>NaN</td>\n",
       "    </tr>\n",
       "    <tr>\n",
       "      <th>2</th>\n",
       "      <td>905544597018549464.1636867290.1636867290</td>\n",
       "      <td>210838531.163687</td>\n",
       "      <td>2021-11-14</td>\n",
       "      <td>08:21:30</td>\n",
       "      <td>1</td>\n",
       "      <td>MvfHsxITijuriZxsqZqt</td>\n",
       "      <td>cpm</td>\n",
       "      <td>FTjNLDyTrXaWYgZymFkV</td>\n",
       "      <td>xhoenQgDQsgfEPYNPwKO</td>\n",
       "      <td>IGUCNvHlhfHpROGclCit</td>\n",
       "      <td>...</td>\n",
       "      <td>2021-11-14</td>\n",
       "      <td>921.0</td>\n",
       "      <td>3</td>\n",
       "      <td>event</td>\n",
       "      <td>NaN</td>\n",
       "      <td>podpiska.sberauto.com/</td>\n",
       "      <td>sub_page_view</td>\n",
       "      <td>sub_landing</td>\n",
       "      <td>NaN</td>\n",
       "      <td>NaN</td>\n",
       "    </tr>\n",
       "    <tr>\n",
       "      <th>3</th>\n",
       "      <td>9055446045651783499.1640648526.1640648526</td>\n",
       "      <td>2108385331.164065</td>\n",
       "      <td>2021-12-28</td>\n",
       "      <td>02:42:06</td>\n",
       "      <td>1</td>\n",
       "      <td>ZpYIoDJMcFzVoPFsHGJL</td>\n",
       "      <td>banner</td>\n",
       "      <td>LEoPHuyFvzoNfnzGgfcd</td>\n",
       "      <td>vCIpmpaGBnIQhyYNkXqp</td>\n",
       "      <td>puhZPIYqKXeFPaUviSjo</td>\n",
       "      <td>...</td>\n",
       "      <td>2021-12-28</td>\n",
       "      <td>84155.0</td>\n",
       "      <td>10</td>\n",
       "      <td>event</td>\n",
       "      <td>NaN</td>\n",
       "      <td>sberauto.com/cars?utm_source_initial=sbol&amp;utm_...</td>\n",
       "      <td>search_form</td>\n",
       "      <td>search_form_region</td>\n",
       "      <td>KWTCzSIXzoqUWjfUQMgP</td>\n",
       "      <td>NaN</td>\n",
       "    </tr>\n",
       "    <tr>\n",
       "      <th>19</th>\n",
       "      <td>9055447046360770272.1622255328.1622255328</td>\n",
       "      <td>2108385564.162225</td>\n",
       "      <td>2021-05-29</td>\n",
       "      <td>05:00:00</td>\n",
       "      <td>1</td>\n",
       "      <td>kjsLglQLzykiRbcDiGcD</td>\n",
       "      <td>cpc</td>\n",
       "      <td>NaN</td>\n",
       "      <td>NOBKLgtuvqYWkXQHeYWM</td>\n",
       "      <td>NaN</td>\n",
       "      <td>...</td>\n",
       "      <td>2021-05-29</td>\n",
       "      <td>NaN</td>\n",
       "      <td>2</td>\n",
       "      <td>event</td>\n",
       "      <td>HbolMJUevblAbkHClEQa</td>\n",
       "      <td>podpiska.sberauto.com/</td>\n",
       "      <td>sub_page_view</td>\n",
       "      <td>sub_landing</td>\n",
       "      <td>KclpemfoHstknWHFiLit</td>\n",
       "      <td>NaN</td>\n",
       "    </tr>\n",
       "    <tr>\n",
       "      <th>22</th>\n",
       "      <td>9055447046360770272.1622255345.1622255345</td>\n",
       "      <td>2108385564.162225</td>\n",
       "      <td>2021-05-29</td>\n",
       "      <td>05:00:00</td>\n",
       "      <td>2</td>\n",
       "      <td>kjsLglQLzykiRbcDiGcD</td>\n",
       "      <td>cpc</td>\n",
       "      <td>NaN</td>\n",
       "      <td>NaN</td>\n",
       "      <td>NaN</td>\n",
       "      <td>...</td>\n",
       "      <td>2021-05-29</td>\n",
       "      <td>NaN</td>\n",
       "      <td>3</td>\n",
       "      <td>event</td>\n",
       "      <td>HbolMJUevblAbkHClEQa</td>\n",
       "      <td>sberauto.com/cars?city=1&amp;rental_page=rental_on...</td>\n",
       "      <td>quiz</td>\n",
       "      <td>quiz_show</td>\n",
       "      <td>KclpemfoHstknWHFiLit</td>\n",
       "      <td>NaN</td>\n",
       "    </tr>\n",
       "  </tbody>\n",
       "</table>\n",
       "<p>5 rows × 28 columns</p>\n",
       "</div>"
      ],
      "text/plain": [
       "                                   session_id          client_id  visit_date  \\\n",
       "0   9055434745589932991.1637753792.1637753792  2108382700.163775  2021-11-24   \n",
       "2    905544597018549464.1636867290.1636867290   210838531.163687  2021-11-14   \n",
       "3   9055446045651783499.1640648526.1640648526  2108385331.164065  2021-12-28   \n",
       "19  9055447046360770272.1622255328.1622255328  2108385564.162225  2021-05-29   \n",
       "22  9055447046360770272.1622255345.1622255345  2108385564.162225  2021-05-29   \n",
       "\n",
       "   visit_time  visit_number            utm_source utm_medium  \\\n",
       "0    14:36:32             1  ZpYIoDJMcFzVoPFsHGJL     banner   \n",
       "2    08:21:30             1  MvfHsxITijuriZxsqZqt        cpm   \n",
       "3    02:42:06             1  ZpYIoDJMcFzVoPFsHGJL     banner   \n",
       "19   05:00:00             1  kjsLglQLzykiRbcDiGcD        cpc   \n",
       "22   05:00:00             2  kjsLglQLzykiRbcDiGcD        cpc   \n",
       "\n",
       "            utm_campaign         utm_adcontent           utm_keyword  ...  \\\n",
       "0   LEoPHuyFvzoNfnzGgfcd  vCIpmpaGBnIQhyYNkXqp  puhZPIYqKXeFPaUviSjo  ...   \n",
       "2   FTjNLDyTrXaWYgZymFkV  xhoenQgDQsgfEPYNPwKO  IGUCNvHlhfHpROGclCit  ...   \n",
       "3   LEoPHuyFvzoNfnzGgfcd  vCIpmpaGBnIQhyYNkXqp  puhZPIYqKXeFPaUviSjo  ...   \n",
       "19                   NaN  NOBKLgtuvqYWkXQHeYWM                   NaN  ...   \n",
       "22                   NaN                   NaN                   NaN  ...   \n",
       "\n",
       "      hit_date hit_time hit_number hit_type           hit_referer  \\\n",
       "0   2021-11-24   3665.0          3    event                   NaN   \n",
       "2   2021-11-14    921.0          3    event                   NaN   \n",
       "3   2021-12-28  84155.0         10    event                   NaN   \n",
       "19  2021-05-29      NaN          2    event  HbolMJUevblAbkHClEQa   \n",
       "22  2021-05-29      NaN          3    event  HbolMJUevblAbkHClEQa   \n",
       "\n",
       "                                        hit_page_path event_category  \\\n",
       "0                              podpiska.sberauto.com/  sub_page_view   \n",
       "2                              podpiska.sberauto.com/  sub_page_view   \n",
       "3   sberauto.com/cars?utm_source_initial=sbol&utm_...    search_form   \n",
       "19                             podpiska.sberauto.com/  sub_page_view   \n",
       "22  sberauto.com/cars?city=1&rental_page=rental_on...           quiz   \n",
       "\n",
       "          event_action           event_label  event_value  \n",
       "0          sub_landing                   NaN          NaN  \n",
       "2          sub_landing                   NaN          NaN  \n",
       "3   search_form_region  KWTCzSIXzoqUWjfUQMgP          NaN  \n",
       "19         sub_landing  KclpemfoHstknWHFiLit          NaN  \n",
       "22           quiz_show  KclpemfoHstknWHFiLit          NaN  \n",
       "\n",
       "[5 rows x 28 columns]"
      ]
     },
     "execution_count": 950,
     "metadata": {},
     "output_type": "execute_result"
    }
   ],
   "source": [
    "merged_df.head()"
   ]
  },
  {
   "cell_type": "markdown",
   "id": "fbf21136-964a-4911-af90-7cbfed0ae004",
   "metadata": {},
   "source": [
    "# Data Preparation"
   ]
  },
  {
   "cell_type": "markdown",
   "id": "7f752b89-5a5d-48dc-97f0-17fbcb96363f",
   "metadata": {},
   "source": [
    "### Drop columns"
   ]
  },
  {
   "cell_type": "code",
   "execution_count": 951,
   "id": "91674a46-3dec-4fb0-81e6-7a44ad90f91d",
   "metadata": {},
   "outputs": [
    {
     "name": "stdout",
     "output_type": "stream",
     "text": [
      "Все значения идентичны\n"
     ]
    }
   ],
   "source": [
    "if merged_df['visit_date'].equals(merged_df['hit_date']):\n",
    "    print(\"Все значения идентичны\")\n",
    "else:\n",
    "    print(\"Есть различия\")"
   ]
  },
  {
   "cell_type": "code",
   "execution_count": 952,
   "id": "c27862bf-60b0-4fc9-a3a8-01e5309a4638",
   "metadata": {},
   "outputs": [],
   "source": [
    "merged_df = merged_df.drop(columns=['visit_date'])"
   ]
  },
  {
   "cell_type": "code",
   "execution_count": 953,
   "id": "5ba26832-626e-48b2-993a-f418255c9382",
   "metadata": {},
   "outputs": [
    {
     "data": {
      "text/plain": [
       "1732266"
      ]
     },
     "execution_count": 953,
     "metadata": {},
     "output_type": "execute_result"
    }
   ],
   "source": [
    "merged_df.session_id.nunique()"
   ]
  },
  {
   "cell_type": "raw",
   "id": "b7d52040-6d23-4307-9d6c-956dde675c7c",
   "metadata": {},
   "source": [
    "В условии сказано, что модель на вход будкт брать атрибуты типа utm_*, device_*, geo_*, поэтому удалим все остальные \n",
    "так как они не смогут принести нам никакой пользы."
   ]
  },
  {
   "cell_type": "code",
   "execution_count": 954,
   "id": "de6be8f6-986c-4ab0-8bd9-abe2a96a6c6c",
   "metadata": {},
   "outputs": [],
   "source": [
    "df_cleaned = merged_df.drop(columns=['visit_number', 'visit_time', 'client_id', 'session_id',\n",
    "                                           'hit_date', 'hit_time', 'hit_number', 'hit_type', 'hit_referer', 'hit_page_path',\n",
    "                                           'event_category', 'event_label', 'event_value'])"
   ]
  },
  {
   "cell_type": "code",
   "execution_count": 955,
   "id": "4b4907e2-e95d-42bb-a26a-bf7595e4c92e",
   "metadata": {},
   "outputs": [
    {
     "data": {
      "text/html": [
       "<div>\n",
       "<style scoped>\n",
       "    .dataframe tbody tr th:only-of-type {\n",
       "        vertical-align: middle;\n",
       "    }\n",
       "\n",
       "    .dataframe tbody tr th {\n",
       "        vertical-align: top;\n",
       "    }\n",
       "\n",
       "    .dataframe thead th {\n",
       "        text-align: right;\n",
       "    }\n",
       "</style>\n",
       "<table border=\"1\" class=\"dataframe\">\n",
       "  <thead>\n",
       "    <tr style=\"text-align: right;\">\n",
       "      <th></th>\n",
       "      <th>utm_source</th>\n",
       "      <th>utm_medium</th>\n",
       "      <th>utm_campaign</th>\n",
       "      <th>utm_adcontent</th>\n",
       "      <th>utm_keyword</th>\n",
       "      <th>device_category</th>\n",
       "      <th>device_os</th>\n",
       "      <th>device_brand</th>\n",
       "      <th>device_model</th>\n",
       "      <th>device_screen_resolution</th>\n",
       "      <th>device_browser</th>\n",
       "      <th>geo_country</th>\n",
       "      <th>geo_city</th>\n",
       "      <th>event_action</th>\n",
       "    </tr>\n",
       "  </thead>\n",
       "  <tbody>\n",
       "    <tr>\n",
       "      <th>0</th>\n",
       "      <td>ZpYIoDJMcFzVoPFsHGJL</td>\n",
       "      <td>banner</td>\n",
       "      <td>LEoPHuyFvzoNfnzGgfcd</td>\n",
       "      <td>vCIpmpaGBnIQhyYNkXqp</td>\n",
       "      <td>puhZPIYqKXeFPaUviSjo</td>\n",
       "      <td>mobile</td>\n",
       "      <td>Android</td>\n",
       "      <td>Huawei</td>\n",
       "      <td>NaN</td>\n",
       "      <td>360x720</td>\n",
       "      <td>Chrome</td>\n",
       "      <td>Russia</td>\n",
       "      <td>Zlatoust</td>\n",
       "      <td>sub_landing</td>\n",
       "    </tr>\n",
       "    <tr>\n",
       "      <th>2</th>\n",
       "      <td>MvfHsxITijuriZxsqZqt</td>\n",
       "      <td>cpm</td>\n",
       "      <td>FTjNLDyTrXaWYgZymFkV</td>\n",
       "      <td>xhoenQgDQsgfEPYNPwKO</td>\n",
       "      <td>IGUCNvHlhfHpROGclCit</td>\n",
       "      <td>mobile</td>\n",
       "      <td>Android</td>\n",
       "      <td>Samsung</td>\n",
       "      <td>NaN</td>\n",
       "      <td>385x854</td>\n",
       "      <td>Samsung Internet</td>\n",
       "      <td>Russia</td>\n",
       "      <td>Moscow</td>\n",
       "      <td>sub_landing</td>\n",
       "    </tr>\n",
       "    <tr>\n",
       "      <th>3</th>\n",
       "      <td>ZpYIoDJMcFzVoPFsHGJL</td>\n",
       "      <td>banner</td>\n",
       "      <td>LEoPHuyFvzoNfnzGgfcd</td>\n",
       "      <td>vCIpmpaGBnIQhyYNkXqp</td>\n",
       "      <td>puhZPIYqKXeFPaUviSjo</td>\n",
       "      <td>mobile</td>\n",
       "      <td>Android</td>\n",
       "      <td>Huawei</td>\n",
       "      <td>NaN</td>\n",
       "      <td>360x720</td>\n",
       "      <td>Chrome</td>\n",
       "      <td>Russia</td>\n",
       "      <td>Krasnoyarsk</td>\n",
       "      <td>search_form_region</td>\n",
       "    </tr>\n",
       "    <tr>\n",
       "      <th>19</th>\n",
       "      <td>kjsLglQLzykiRbcDiGcD</td>\n",
       "      <td>cpc</td>\n",
       "      <td>NaN</td>\n",
       "      <td>NOBKLgtuvqYWkXQHeYWM</td>\n",
       "      <td>NaN</td>\n",
       "      <td>mobile</td>\n",
       "      <td>NaN</td>\n",
       "      <td>Xiaomi</td>\n",
       "      <td>NaN</td>\n",
       "      <td>393x786</td>\n",
       "      <td>Chrome</td>\n",
       "      <td>Russia</td>\n",
       "      <td>Moscow</td>\n",
       "      <td>sub_landing</td>\n",
       "    </tr>\n",
       "    <tr>\n",
       "      <th>22</th>\n",
       "      <td>kjsLglQLzykiRbcDiGcD</td>\n",
       "      <td>cpc</td>\n",
       "      <td>NaN</td>\n",
       "      <td>NaN</td>\n",
       "      <td>NaN</td>\n",
       "      <td>mobile</td>\n",
       "      <td>NaN</td>\n",
       "      <td>Xiaomi</td>\n",
       "      <td>NaN</td>\n",
       "      <td>393x786</td>\n",
       "      <td>Chrome</td>\n",
       "      <td>Russia</td>\n",
       "      <td>Moscow</td>\n",
       "      <td>quiz_show</td>\n",
       "    </tr>\n",
       "  </tbody>\n",
       "</table>\n",
       "</div>"
      ],
      "text/plain": [
       "              utm_source utm_medium          utm_campaign  \\\n",
       "0   ZpYIoDJMcFzVoPFsHGJL     banner  LEoPHuyFvzoNfnzGgfcd   \n",
       "2   MvfHsxITijuriZxsqZqt        cpm  FTjNLDyTrXaWYgZymFkV   \n",
       "3   ZpYIoDJMcFzVoPFsHGJL     banner  LEoPHuyFvzoNfnzGgfcd   \n",
       "19  kjsLglQLzykiRbcDiGcD        cpc                   NaN   \n",
       "22  kjsLglQLzykiRbcDiGcD        cpc                   NaN   \n",
       "\n",
       "           utm_adcontent           utm_keyword device_category device_os  \\\n",
       "0   vCIpmpaGBnIQhyYNkXqp  puhZPIYqKXeFPaUviSjo          mobile   Android   \n",
       "2   xhoenQgDQsgfEPYNPwKO  IGUCNvHlhfHpROGclCit          mobile   Android   \n",
       "3   vCIpmpaGBnIQhyYNkXqp  puhZPIYqKXeFPaUviSjo          mobile   Android   \n",
       "19  NOBKLgtuvqYWkXQHeYWM                   NaN          mobile       NaN   \n",
       "22                   NaN                   NaN          mobile       NaN   \n",
       "\n",
       "   device_brand device_model device_screen_resolution    device_browser  \\\n",
       "0        Huawei          NaN                  360x720            Chrome   \n",
       "2       Samsung          NaN                  385x854  Samsung Internet   \n",
       "3        Huawei          NaN                  360x720            Chrome   \n",
       "19       Xiaomi          NaN                  393x786            Chrome   \n",
       "22       Xiaomi          NaN                  393x786            Chrome   \n",
       "\n",
       "   geo_country     geo_city        event_action  \n",
       "0       Russia     Zlatoust         sub_landing  \n",
       "2       Russia       Moscow         sub_landing  \n",
       "3       Russia  Krasnoyarsk  search_form_region  \n",
       "19      Russia       Moscow         sub_landing  \n",
       "22      Russia       Moscow           quiz_show  "
      ]
     },
     "execution_count": 955,
     "metadata": {},
     "output_type": "execute_result"
    }
   ],
   "source": [
    "df_cleaned.head()"
   ]
  },
  {
   "cell_type": "code",
   "execution_count": 957,
   "id": "642f4dfb-2e7e-4623-bf8e-f5ed9e2c51d0",
   "metadata": {},
   "outputs": [
    {
     "data": {
      "text/html": [
       "<div>\n",
       "<style scoped>\n",
       "    .dataframe tbody tr th:only-of-type {\n",
       "        vertical-align: middle;\n",
       "    }\n",
       "\n",
       "    .dataframe tbody tr th {\n",
       "        vertical-align: top;\n",
       "    }\n",
       "\n",
       "    .dataframe thead th {\n",
       "        text-align: right;\n",
       "    }\n",
       "</style>\n",
       "<table border=\"1\" class=\"dataframe\">\n",
       "  <thead>\n",
       "    <tr style=\"text-align: right;\">\n",
       "      <th></th>\n",
       "      <th>utm_source</th>\n",
       "      <th>utm_medium</th>\n",
       "      <th>utm_campaign</th>\n",
       "      <th>utm_adcontent</th>\n",
       "      <th>utm_keyword</th>\n",
       "      <th>device_category</th>\n",
       "      <th>device_os</th>\n",
       "      <th>device_brand</th>\n",
       "      <th>device_model</th>\n",
       "      <th>device_screen_resolution</th>\n",
       "      <th>device_browser</th>\n",
       "      <th>geo_country</th>\n",
       "      <th>geo_city</th>\n",
       "      <th>event_action</th>\n",
       "    </tr>\n",
       "  </thead>\n",
       "  <tbody>\n",
       "    <tr>\n",
       "      <th>25890</th>\n",
       "      <td>MvfHsxITijuriZxsqZqt</td>\n",
       "      <td>cpm</td>\n",
       "      <td>FTjNLDyTrXaWYgZymFkV</td>\n",
       "      <td>PkybGvWbaqORmxjNunqZ</td>\n",
       "      <td>NaN</td>\n",
       "      <td>mobile</td>\n",
       "      <td>NaN</td>\n",
       "      <td>Huawei</td>\n",
       "      <td>NaN</td>\n",
       "      <td>360x720</td>\n",
       "      <td>Chrome</td>\n",
       "      <td>Russia</td>\n",
       "      <td>Moscow</td>\n",
       "      <td>sub_car_claim_click</td>\n",
       "    </tr>\n",
       "    <tr>\n",
       "      <th>42969</th>\n",
       "      <td>ZpYIoDJMcFzVoPFsHGJL</td>\n",
       "      <td>banner</td>\n",
       "      <td>LEoPHuyFvzoNfnzGgfcd</td>\n",
       "      <td>JNHcPlZPxEMWDnRiyoBf</td>\n",
       "      <td>NaN</td>\n",
       "      <td>mobile</td>\n",
       "      <td>NaN</td>\n",
       "      <td>Apple</td>\n",
       "      <td>NaN</td>\n",
       "      <td>375x667</td>\n",
       "      <td>Safari</td>\n",
       "      <td>Russia</td>\n",
       "      <td>Moscow</td>\n",
       "      <td>sub_car_claim_click</td>\n",
       "    </tr>\n",
       "    <tr>\n",
       "      <th>76767</th>\n",
       "      <td>ZpYIoDJMcFzVoPFsHGJL</td>\n",
       "      <td>banner</td>\n",
       "      <td>LEoPHuyFvzoNfnzGgfcd</td>\n",
       "      <td>vCIpmpaGBnIQhyYNkXqp</td>\n",
       "      <td>puhZPIYqKXeFPaUviSjo</td>\n",
       "      <td>mobile</td>\n",
       "      <td>Android</td>\n",
       "      <td>Huawei</td>\n",
       "      <td>NaN</td>\n",
       "      <td>320x694</td>\n",
       "      <td>Chrome</td>\n",
       "      <td>Russia</td>\n",
       "      <td>Saint Petersburg</td>\n",
       "      <td>sub_car_claim_click</td>\n",
       "    </tr>\n",
       "    <tr>\n",
       "      <th>81974</th>\n",
       "      <td>bByPQxmDaMXgpHeypKSM</td>\n",
       "      <td>referral</td>\n",
       "      <td>LTuZkdKfxRGVceoWkVyg</td>\n",
       "      <td>JNHcPlZPxEMWDnRiyoBf</td>\n",
       "      <td>NaN</td>\n",
       "      <td>mobile</td>\n",
       "      <td>NaN</td>\n",
       "      <td>Apple</td>\n",
       "      <td>NaN</td>\n",
       "      <td>414x896</td>\n",
       "      <td>Safari</td>\n",
       "      <td>Russia</td>\n",
       "      <td>Moscow</td>\n",
       "      <td>sub_car_claim_click</td>\n",
       "    </tr>\n",
       "    <tr>\n",
       "      <th>94133</th>\n",
       "      <td>bByPQxmDaMXgpHeypKSM</td>\n",
       "      <td>referral</td>\n",
       "      <td>FTjNLDyTrXaWYgZymFkV</td>\n",
       "      <td>PkybGvWbaqORmxjNunqZ</td>\n",
       "      <td>NaN</td>\n",
       "      <td>mobile</td>\n",
       "      <td>NaN</td>\n",
       "      <td>Samsung</td>\n",
       "      <td>NaN</td>\n",
       "      <td>412x915</td>\n",
       "      <td>Chrome</td>\n",
       "      <td>Russia</td>\n",
       "      <td>Moscow</td>\n",
       "      <td>sub_car_claim_click</td>\n",
       "    </tr>\n",
       "    <tr>\n",
       "      <th>...</th>\n",
       "      <td>...</td>\n",
       "      <td>...</td>\n",
       "      <td>...</td>\n",
       "      <td>...</td>\n",
       "      <td>...</td>\n",
       "      <td>...</td>\n",
       "      <td>...</td>\n",
       "      <td>...</td>\n",
       "      <td>...</td>\n",
       "      <td>...</td>\n",
       "      <td>...</td>\n",
       "      <td>...</td>\n",
       "      <td>...</td>\n",
       "      <td>...</td>\n",
       "    </tr>\n",
       "    <tr>\n",
       "      <th>15571355</th>\n",
       "      <td>ZpYIoDJMcFzVoPFsHGJL</td>\n",
       "      <td>banner</td>\n",
       "      <td>LEoPHuyFvzoNfnzGgfcd</td>\n",
       "      <td>vCIpmpaGBnIQhyYNkXqp</td>\n",
       "      <td>puhZPIYqKXeFPaUviSjo</td>\n",
       "      <td>mobile</td>\n",
       "      <td>Android</td>\n",
       "      <td>Samsung</td>\n",
       "      <td>NaN</td>\n",
       "      <td>339x753</td>\n",
       "      <td>Chrome</td>\n",
       "      <td>Russia</td>\n",
       "      <td>Moscow</td>\n",
       "      <td>sub_car_claim_click</td>\n",
       "    </tr>\n",
       "    <tr>\n",
       "      <th>15594564</th>\n",
       "      <td>ZpYIoDJMcFzVoPFsHGJL</td>\n",
       "      <td>banner</td>\n",
       "      <td>LEoPHuyFvzoNfnzGgfcd</td>\n",
       "      <td>JNHcPlZPxEMWDnRiyoBf</td>\n",
       "      <td>NaN</td>\n",
       "      <td>mobile</td>\n",
       "      <td>NaN</td>\n",
       "      <td>Xiaomi</td>\n",
       "      <td>NaN</td>\n",
       "      <td>393x873</td>\n",
       "      <td>Chrome</td>\n",
       "      <td>Russia</td>\n",
       "      <td>Moscow</td>\n",
       "      <td>sub_car_claim_click</td>\n",
       "    </tr>\n",
       "    <tr>\n",
       "      <th>15634483</th>\n",
       "      <td>ZpYIoDJMcFzVoPFsHGJL</td>\n",
       "      <td>banner</td>\n",
       "      <td>LEoPHuyFvzoNfnzGgfcd</td>\n",
       "      <td>vCIpmpaGBnIQhyYNkXqp</td>\n",
       "      <td>puhZPIYqKXeFPaUviSjo</td>\n",
       "      <td>mobile</td>\n",
       "      <td>Android</td>\n",
       "      <td>Huawei</td>\n",
       "      <td>NaN</td>\n",
       "      <td>360x780</td>\n",
       "      <td>Chrome</td>\n",
       "      <td>Russia</td>\n",
       "      <td>Grozny</td>\n",
       "      <td>sub_car_claim_click</td>\n",
       "    </tr>\n",
       "    <tr>\n",
       "      <th>15653984</th>\n",
       "      <td>fDLlAcSmythWSCVMvqvL</td>\n",
       "      <td>(none)</td>\n",
       "      <td>LTuZkdKfxRGVceoWkVyg</td>\n",
       "      <td>JNHcPlZPxEMWDnRiyoBf</td>\n",
       "      <td>NaN</td>\n",
       "      <td>desktop</td>\n",
       "      <td>NaN</td>\n",
       "      <td>NaN</td>\n",
       "      <td>NaN</td>\n",
       "      <td>1280x800</td>\n",
       "      <td>Chrome</td>\n",
       "      <td>Russia</td>\n",
       "      <td>Moscow</td>\n",
       "      <td>sub_car_claim_click</td>\n",
       "    </tr>\n",
       "    <tr>\n",
       "      <th>15670144</th>\n",
       "      <td>bByPQxmDaMXgpHeypKSM</td>\n",
       "      <td>referral</td>\n",
       "      <td>LTuZkdKfxRGVceoWkVyg</td>\n",
       "      <td>JNHcPlZPxEMWDnRiyoBf</td>\n",
       "      <td>NaN</td>\n",
       "      <td>desktop</td>\n",
       "      <td>NaN</td>\n",
       "      <td>NaN</td>\n",
       "      <td>NaN</td>\n",
       "      <td>1920x1080</td>\n",
       "      <td>Chrome</td>\n",
       "      <td>Russia</td>\n",
       "      <td>Moscow</td>\n",
       "      <td>sub_car_claim_click</td>\n",
       "    </tr>\n",
       "  </tbody>\n",
       "</table>\n",
       "<p>911 rows × 14 columns</p>\n",
       "</div>"
      ],
      "text/plain": [
       "                    utm_source utm_medium          utm_campaign  \\\n",
       "25890     MvfHsxITijuriZxsqZqt        cpm  FTjNLDyTrXaWYgZymFkV   \n",
       "42969     ZpYIoDJMcFzVoPFsHGJL     banner  LEoPHuyFvzoNfnzGgfcd   \n",
       "76767     ZpYIoDJMcFzVoPFsHGJL     banner  LEoPHuyFvzoNfnzGgfcd   \n",
       "81974     bByPQxmDaMXgpHeypKSM   referral  LTuZkdKfxRGVceoWkVyg   \n",
       "94133     bByPQxmDaMXgpHeypKSM   referral  FTjNLDyTrXaWYgZymFkV   \n",
       "...                        ...        ...                   ...   \n",
       "15571355  ZpYIoDJMcFzVoPFsHGJL     banner  LEoPHuyFvzoNfnzGgfcd   \n",
       "15594564  ZpYIoDJMcFzVoPFsHGJL     banner  LEoPHuyFvzoNfnzGgfcd   \n",
       "15634483  ZpYIoDJMcFzVoPFsHGJL     banner  LEoPHuyFvzoNfnzGgfcd   \n",
       "15653984  fDLlAcSmythWSCVMvqvL     (none)  LTuZkdKfxRGVceoWkVyg   \n",
       "15670144  bByPQxmDaMXgpHeypKSM   referral  LTuZkdKfxRGVceoWkVyg   \n",
       "\n",
       "                 utm_adcontent           utm_keyword device_category  \\\n",
       "25890     PkybGvWbaqORmxjNunqZ                   NaN          mobile   \n",
       "42969     JNHcPlZPxEMWDnRiyoBf                   NaN          mobile   \n",
       "76767     vCIpmpaGBnIQhyYNkXqp  puhZPIYqKXeFPaUviSjo          mobile   \n",
       "81974     JNHcPlZPxEMWDnRiyoBf                   NaN          mobile   \n",
       "94133     PkybGvWbaqORmxjNunqZ                   NaN          mobile   \n",
       "...                        ...                   ...             ...   \n",
       "15571355  vCIpmpaGBnIQhyYNkXqp  puhZPIYqKXeFPaUviSjo          mobile   \n",
       "15594564  JNHcPlZPxEMWDnRiyoBf                   NaN          mobile   \n",
       "15634483  vCIpmpaGBnIQhyYNkXqp  puhZPIYqKXeFPaUviSjo          mobile   \n",
       "15653984  JNHcPlZPxEMWDnRiyoBf                   NaN         desktop   \n",
       "15670144  JNHcPlZPxEMWDnRiyoBf                   NaN         desktop   \n",
       "\n",
       "         device_os device_brand device_model device_screen_resolution  \\\n",
       "25890          NaN       Huawei          NaN                  360x720   \n",
       "42969          NaN        Apple          NaN                  375x667   \n",
       "76767      Android       Huawei          NaN                  320x694   \n",
       "81974          NaN        Apple          NaN                  414x896   \n",
       "94133          NaN      Samsung          NaN                  412x915   \n",
       "...            ...          ...          ...                      ...   \n",
       "15571355   Android      Samsung          NaN                  339x753   \n",
       "15594564       NaN       Xiaomi          NaN                  393x873   \n",
       "15634483   Android       Huawei          NaN                  360x780   \n",
       "15653984       NaN          NaN          NaN                 1280x800   \n",
       "15670144       NaN          NaN          NaN                1920x1080   \n",
       "\n",
       "         device_browser geo_country          geo_city         event_action  \n",
       "25890            Chrome      Russia            Moscow  sub_car_claim_click  \n",
       "42969            Safari      Russia            Moscow  sub_car_claim_click  \n",
       "76767            Chrome      Russia  Saint Petersburg  sub_car_claim_click  \n",
       "81974            Safari      Russia            Moscow  sub_car_claim_click  \n",
       "94133            Chrome      Russia            Moscow  sub_car_claim_click  \n",
       "...                 ...         ...               ...                  ...  \n",
       "15571355         Chrome      Russia            Moscow  sub_car_claim_click  \n",
       "15594564         Chrome      Russia            Moscow  sub_car_claim_click  \n",
       "15634483         Chrome      Russia            Grozny  sub_car_claim_click  \n",
       "15653984         Chrome      Russia            Moscow  sub_car_claim_click  \n",
       "15670144         Chrome      Russia            Moscow  sub_car_claim_click  \n",
       "\n",
       "[911 rows x 14 columns]"
      ]
     },
     "execution_count": 957,
     "metadata": {},
     "output_type": "execute_result"
    }
   ],
   "source": [
    "df_cleaned[df_cleaned.event_action == 'sub_car_claim_click']"
   ]
  },
  {
   "cell_type": "code",
   "execution_count": null,
   "id": "cfc31595-7905-417f-bd80-dd4abe9573a9",
   "metadata": {},
   "outputs": [],
   "source": [
    "df_cleaned.info()"
   ]
  },
  {
   "cell_type": "markdown",
   "id": "268178fc-e5f0-44c7-976e-8dbcc14fae8b",
   "metadata": {},
   "source": [
    "### Data cleaning"
   ]
  },
  {
   "cell_type": "code",
   "execution_count": null,
   "id": "f07545e6-57f1-4cfa-a60c-9305924a295b",
   "metadata": {},
   "outputs": [],
   "source": [
    "# начнем обработку наших дынных"
   ]
  },
  {
   "cell_type": "code",
   "execution_count": null,
   "id": "68d8db3f-5b74-4a1a-93b4-6a893c5beadf",
   "metadata": {},
   "outputs": [],
   "source": [
    "# удалим дубликаты и сохраним таблицу для дальнейшей работы при моделировании"
   ]
  },
  {
   "cell_type": "code",
   "execution_count": null,
   "id": "ab6cb2b9-a216-47a7-aaae-58545b4d08d4",
   "metadata": {},
   "outputs": [],
   "source": [
    "df_cleaned[df_cleaned.duplicated()]"
   ]
  },
  {
   "cell_type": "code",
   "execution_count": null,
   "id": "414dcea5-e6b7-4b53-82d3-ddd8c620f96a",
   "metadata": {},
   "outputs": [],
   "source": [
    "df_cleaned = df_cleaned.drop_duplicates()"
   ]
  },
  {
   "cell_type": "code",
   "execution_count": null,
   "id": "6e7cd859-2ff6-424c-8baf-955d8fcbc9b0",
   "metadata": {},
   "outputs": [],
   "source": [
    "df_cleaned.to_csv(\"data/df_ready.csv\", index=False)"
   ]
  },
  {
   "cell_type": "code",
   "execution_count": null,
   "id": "37f52f34-5fcc-456a-a336-6d0386035f5f",
   "metadata": {},
   "outputs": [],
   "source": [
    "df_cleaned.info()"
   ]
  },
  {
   "cell_type": "code",
   "execution_count": null,
   "id": "b98daefe-8a4c-4a54-9d21-c07a51eb1036",
   "metadata": {},
   "outputs": [],
   "source": [
    "msno.bar(df_cleaned)"
   ]
  },
  {
   "cell_type": "code",
   "execution_count": null,
   "id": "9815348a-f1ed-45b7-9874-f3fecfd92bf8",
   "metadata": {},
   "outputs": [],
   "source": [
    "missing_values = ((df_cleaned.isna().sum() / len(df_cleaned)) * 100).sort_values()\n",
    "print ('Процент пропущенных значений:')\n",
    "missing_values"
   ]
  },
  {
   "cell_type": "code",
   "execution_count": null,
   "id": "f4883c69-01a7-433b-a82e-726e8f5df23f",
   "metadata": {},
   "outputs": [],
   "source": [
    "# Удалим неимформативные признаки, где процент пропущенных значений больше 25."
   ]
  },
  {
   "cell_type": "code",
   "execution_count": null,
   "id": "13323c10-038a-4e85-a9c6-82964d692bd8",
   "metadata": {},
   "outputs": [],
   "source": [
    "df_cleaned = df_cleaned.drop(columns=['device_model', 'utm_keyword', 'device_os'])"
   ]
  },
  {
   "cell_type": "code",
   "execution_count": null,
   "id": "63433c5a-338e-4431-858e-807b2bfb8b7c",
   "metadata": {},
   "outputs": [],
   "source": [
    "missing_values = ((df_cleaned.isna().sum() / len(df_cleaned)) * 100).sort_values()\n",
    "print ('Процент пропущенных значений:')\n",
    "missing_values"
   ]
  },
  {
   "cell_type": "code",
   "execution_count": null,
   "id": "bf2d8858-6359-440f-9f58-f663911dc33f",
   "metadata": {},
   "outputs": [],
   "source": [
    "def print_useful_rows_info(df) :\n",
    "    print ('Количество полностью заполненных объектов всей выборки:', len(df.dropna()))\n",
    "    print ('Процент полностью заполненных объектов из всей выборки:', round(len(df.dropna()) / len(df) * 100, 2))"
   ]
  },
  {
   "cell_type": "code",
   "execution_count": null,
   "id": "6e69491c-0b5b-410f-8361-c39ac5367ccb",
   "metadata": {},
   "outputs": [],
   "source": [
    "print_useful_rows_info(df_cleaned)"
   ]
  },
  {
   "cell_type": "code",
   "execution_count": null,
   "id": "4c40c59f-cc14-418d-a464-b01938e33975",
   "metadata": {},
   "outputs": [],
   "source": [
    "df_delete_cols = df_cleaned.copy()"
   ]
  },
  {
   "cell_type": "code",
   "execution_count": null,
   "id": "aa1caa58-44e6-4316-a6e5-28c56a700e38",
   "metadata": {},
   "outputs": [],
   "source": [
    "# Пропуски все еще присутствуют, но теперь мы их уже будем заполнять "
   ]
  },
  {
   "cell_type": "code",
   "execution_count": null,
   "id": "a8066a1d-d6a4-431f-a014-66cdb7379709",
   "metadata": {},
   "outputs": [],
   "source": [
    "df_cleaned.device_brand.value_counts(dropna=False)"
   ]
  },
  {
   "cell_type": "code",
   "execution_count": null,
   "id": "2d75da0c-53c8-4dc0-b08f-ad153a1540c8",
   "metadata": {},
   "outputs": [],
   "source": [
    "# возможно значения которые пропущенны в device_brand имеются в других колонках"
   ]
  },
  {
   "cell_type": "code",
   "execution_count": null,
   "id": "f3bfa2d7-a383-4998-9483-6aaa19840638",
   "metadata": {},
   "outputs": [],
   "source": [
    "merged_df[merged_df['device_brand'].isna()][[\n",
    "    'device_brand',\n",
    "    'device_os',\n",
    "    'device_category',\n",
    "    'device_model',\n",
    "    'device_screen_resolution',\n",
    "    'device_browser'\n",
    "]].head(50)\n"
   ]
  },
  {
   "cell_type": "code",
   "execution_count": null,
   "id": "6ddbead9-9258-40d1-a364-6ebc994d5658",
   "metadata": {},
   "outputs": [],
   "source": [
    "# Увы, таковых нет, заполним новым значением other"
   ]
  },
  {
   "cell_type": "code",
   "execution_count": null,
   "id": "7f55b15d-8b66-4fed-8ebb-4ef1da97460c",
   "metadata": {},
   "outputs": [],
   "source": [
    "df_cleaned.device_brand = df_cleaned.device_brand.fillna('other')\n",
    "df_cleaned.device_brand.isna().sum()"
   ]
  },
  {
   "cell_type": "code",
   "execution_count": null,
   "id": "1329bca8-b739-48e5-a8bd-069d0ac0fea7",
   "metadata": {},
   "outputs": [],
   "source": [
    "print_useful_rows_info(df_cleaned)"
   ]
  },
  {
   "cell_type": "code",
   "execution_count": null,
   "id": "b6551025-3d5e-45f1-b123-ddc48d28614d",
   "metadata": {},
   "outputs": [],
   "source": [
    "# продолжим заполнять пропуски"
   ]
  },
  {
   "cell_type": "code",
   "execution_count": null,
   "id": "6aed6ce1-56e9-4008-89dd-d9c30711a61d",
   "metadata": {},
   "outputs": [],
   "source": [
    "df_cleaned.utm_adcontent.value_counts(dropna=False)"
   ]
  },
  {
   "cell_type": "code",
   "execution_count": null,
   "id": "b7dac4cd-d512-4037-9761-4bd703814180",
   "metadata": {},
   "outputs": [],
   "source": [
    "# заполним новым значением other"
   ]
  },
  {
   "cell_type": "code",
   "execution_count": null,
   "id": "1a3d2739-efd9-41c4-9538-53861136e42e",
   "metadata": {},
   "outputs": [],
   "source": [
    "df_cleaned.utm_adcontent = df_cleaned.utm_adcontent.fillna('other')\n",
    "df_cleaned.utm_adcontent.isna().sum()"
   ]
  },
  {
   "cell_type": "code",
   "execution_count": null,
   "id": "3268b840-70ac-4e82-bfc0-4fcceca85595",
   "metadata": {},
   "outputs": [],
   "source": [
    "print_useful_rows_info(df_cleaned)"
   ]
  },
  {
   "cell_type": "code",
   "execution_count": null,
   "id": "51166f44-ac8b-4008-8744-5cad52ec27b6",
   "metadata": {},
   "outputs": [],
   "source": [
    "# остался только признак utm_campaign и utm_source"
   ]
  },
  {
   "cell_type": "code",
   "execution_count": null,
   "id": "d8cade99-7c51-4caf-9ad0-6f0d18c717db",
   "metadata": {},
   "outputs": [],
   "source": [
    "df_cleaned.utm_campaign.value_counts(dropna=False)"
   ]
  },
  {
   "cell_type": "code",
   "execution_count": null,
   "id": "8843a335-5709-48ca-9936-c46f1c6fcbb4",
   "metadata": {},
   "outputs": [],
   "source": [
    "# заполним новым значением other"
   ]
  },
  {
   "cell_type": "code",
   "execution_count": null,
   "id": "a9a0c3f4-b8db-4dcb-a8c7-b383f82daf86",
   "metadata": {},
   "outputs": [],
   "source": [
    "df_cleaned.utm_campaign = df_cleaned.utm_campaign.fillna('other')\n",
    "df_cleaned.utm_campaign.isna().sum()"
   ]
  },
  {
   "cell_type": "code",
   "execution_count": null,
   "id": "b7e7efe7-48ad-415d-8fee-8da6d5a917d2",
   "metadata": {},
   "outputs": [],
   "source": [
    "df_cleaned.utm_source.value_counts(dropna=False)"
   ]
  },
  {
   "cell_type": "code",
   "execution_count": null,
   "id": "d182ad4f-1958-4ba9-b3cc-4551a9946b44",
   "metadata": {},
   "outputs": [],
   "source": [
    "# заполним новым значением other"
   ]
  },
  {
   "cell_type": "code",
   "execution_count": null,
   "id": "16785259-316d-4d95-9ab3-074f86e94799",
   "metadata": {},
   "outputs": [],
   "source": [
    "df_cleaned.utm_source = df_cleaned.utm_source.fillna('other')\n",
    "df_cleaned.utm_source.isna().sum()"
   ]
  },
  {
   "cell_type": "code",
   "execution_count": null,
   "id": "3c54c567-6f27-46e0-8986-d8091596a77e",
   "metadata": {},
   "outputs": [],
   "source": [
    "print_useful_rows_info(df_cleaned)"
   ]
  },
  {
   "cell_type": "code",
   "execution_count": null,
   "id": "089c2306-4153-4e7b-ad46-237d198a8841",
   "metadata": {},
   "outputs": [],
   "source": [
    "df_clean = df_cleaned.copy()"
   ]
  },
  {
   "cell_type": "markdown",
   "id": "b8a19842-e65c-4314-9c56-b9959f803743",
   "metadata": {},
   "source": [
    "### Filter data"
   ]
  },
  {
   "cell_type": "code",
   "execution_count": null,
   "id": "23f334e1-43eb-403f-8127-14bc172d6f0d",
   "metadata": {},
   "outputs": [],
   "source": [
    "# обработаем те значения в признаках которые могут быть неимформативными"
   ]
  },
  {
   "cell_type": "code",
   "execution_count": null,
   "id": "f996dcd8-a21b-452d-9f16-19461892470b",
   "metadata": {},
   "outputs": [],
   "source": [
    "# заменим такие уникальные знаяения на \"other_*\""
   ]
  },
  {
   "cell_type": "code",
   "execution_count": null,
   "id": "db0967c5-6207-451c-8593-cf510d141b6c",
   "metadata": {},
   "outputs": [],
   "source": [
    "df_cleaned.geo_city.value_counts()"
   ]
  },
  {
   "cell_type": "code",
   "execution_count": null,
   "id": "916a44ca-9c14-4e7e-916c-70ca97300044",
   "metadata": {},
   "outputs": [],
   "source": [
    "df_cleaned.geo_city.nunique()"
   ]
  },
  {
   "cell_type": "code",
   "execution_count": null,
   "id": "0a707069-629e-41b9-9885-065521e3d84b",
   "metadata": {},
   "outputs": [],
   "source": [
    "num_unique_cities = (df_cleaned.geo_city.value_counts() <= 1000).sum()\n",
    "num_unique_cities"
   ]
  },
  {
   "cell_type": "code",
   "execution_count": null,
   "id": "fbe725af-d93a-4e0f-9799-e1f6191fcac2",
   "metadata": {},
   "outputs": [],
   "source": [
    "target_values = [\n",
    "    'sub_car_claim_click', 'sub_car_claim_submit_click',\n",
    "    'sub_open_dialog_click', 'sub_custom_question_submit_click',\n",
    "    'sub_call_number_click', 'sub_callback_submit_click',\n",
    "    'sub_submit_success', 'sub_car_request_submit_click'\n",
    "]\n",
    "\n",
    "df_cleaned['event_action'] = df_cleaned['event_action'].apply(lambda x: 1 if x in target_values else 0)"
   ]
  },
  {
   "cell_type": "code",
   "execution_count": null,
   "id": "d43b42da-44d3-4a3d-81b5-071f7cdb1774",
   "metadata": {},
   "outputs": [],
   "source": [
    "df_try = df_cleaned.copy()"
   ]
  },
  {
   "cell_type": "code",
   "execution_count": null,
   "id": "30b00339-9168-4c50-a570-b6dcef7d0abc",
   "metadata": {},
   "outputs": [],
   "source": [
    "# Считаем количество вхождений каждого города\n",
    "city_counts = df_try['geo_city'].value_counts()\n",
    "    \n",
    "df_try['city_category'] = df_try['geo_city'].apply(lambda x: 'Rare' if city_counts[x] <= 1000 else 'Frequent')\n",
    "target_mean_by_category = df_try.groupby('city_category')['event_action'].mean().reset_index()"
   ]
  },
  {
   "cell_type": "code",
   "execution_count": null,
   "id": "60811c01-eaf1-4ed3-9f3d-2603ff43e2d5",
   "metadata": {},
   "outputs": [],
   "source": [
    "plt.figure(figsize=(8, 6))\n",
    "sns.barplot(x='city_category', y='event_action', data=target_mean_by_category)\n",
    "plt.ylabel('Frequency of Target Variable (1)')\n",
    "plt.title('Comparison of Target Variable Frequency Between Rare and Frequent Cities')\n",
    "plt.show()"
   ]
  },
  {
   "cell_type": "code",
   "execution_count": null,
   "id": "19416699-d88d-4243-b6f7-36992d6e229f",
   "metadata": {},
   "outputs": [],
   "source": [
    "target_mean_by_category"
   ]
  },
  {
   "cell_type": "code",
   "execution_count": null,
   "id": "05cf82b2-9c0c-416d-b194-250c5deea4ae",
   "metadata": {},
   "outputs": [],
   "source": [
    "# судя по проведенному анализу зависимости целевого действия от частоты повторений городов, можно сделать вывод,\n",
    "# что города кототрые редео встречаются несут за собой негативне целеыое действие\n",
    "\n",
    "# поэтому я решил избавиться от ункикального наименования городов, которые повторяются меньше 5000 раз, \n",
    "# из я все переиминую как other_cities"
   ]
  },
  {
   "cell_type": "code",
   "execution_count": null,
   "id": "75bbd11c-c82e-4bce-b4ce-962bf43defbe",
   "metadata": {},
   "outputs": [],
   "source": [
    "df_try.head()"
   ]
  },
  {
   "cell_type": "code",
   "execution_count": null,
   "id": "6051e87c-dc3c-466e-abe5-bcd34eabb78e",
   "metadata": {},
   "outputs": [],
   "source": [
    "df_cleaned.head()"
   ]
  },
  {
   "cell_type": "code",
   "execution_count": null,
   "id": "e5aa9aed-dea3-44cb-9946-e4f5d50e106d",
   "metadata": {},
   "outputs": [],
   "source": [
    "df_cleaned.geo_city = df_cleaned.geo_city.apply(\n",
    "    lambda x: 'other_cities' if city_counts[x] <= 1000 else x)"
   ]
  },
  {
   "cell_type": "code",
   "execution_count": null,
   "id": "8bb7a8ba-04d8-4469-9892-1e0787a9be66",
   "metadata": {},
   "outputs": [],
   "source": [
    "df_cleaned.geo_country.nunique()"
   ]
  },
  {
   "cell_type": "code",
   "execution_count": null,
   "id": "78c97635-a942-428e-9c48-1822c3b402c9",
   "metadata": {},
   "outputs": [],
   "source": [
    "df_cleaned.geo_country.value_counts().to_list()"
   ]
  },
  {
   "cell_type": "code",
   "execution_count": null,
   "id": "70d790f5-3529-431e-b475-f3f8a1564525",
   "metadata": {},
   "outputs": [],
   "source": [
    "num_unique_cities = (df_cleaned.geo_country.value_counts() <= 500).sum()\n",
    "num_unique_cities"
   ]
  },
  {
   "cell_type": "code",
   "execution_count": null,
   "id": "a0c8ca6e-9c8e-402b-8b1b-d3543875903e",
   "metadata": {},
   "outputs": [],
   "source": [
    "# Считаем количество вхождений каждого города\n",
    "country_counts = df_try['geo_country'].value_counts()\n",
    "    \n",
    "df_try['country_category'] = df_try['geo_country'].apply(lambda x: 'Rare' if country_counts[x] <= 500 else 'Frequent')\n",
    "target_mean_by_category = df_try.groupby('country_category')['event_action'].mean().reset_index()"
   ]
  },
  {
   "cell_type": "code",
   "execution_count": null,
   "id": "5980ab82-7f15-428f-82ba-98c22b55cf25",
   "metadata": {},
   "outputs": [],
   "source": [
    "plt.figure(figsize=(8, 6))\n",
    "sns.barplot(x='country_category', y='event_action', data=target_mean_by_category)\n",
    "plt.ylabel('Frequency of Target Variable (1)')\n",
    "plt.title('Comparison of Target Variable Frequency Between Rare and Frequent')\n",
    "plt.show()"
   ]
  },
  {
   "cell_type": "code",
   "execution_count": null,
   "id": "15e221e2-fa5c-438b-94ea-5b56f6dbdd0c",
   "metadata": {},
   "outputs": [],
   "source": [
    "target_mean_by_category"
   ]
  },
  {
   "cell_type": "code",
   "execution_count": null,
   "id": "7b3b7cfb-b334-43a0-9a19-4fb2c3d886a7",
   "metadata": {},
   "outputs": [],
   "source": [
    "df_cleaned.geo_country = df_cleaned.geo_country.apply(\n",
    "    lambda x: 'other_countries' if country_counts[x] <= 500 else x)"
   ]
  },
  {
   "cell_type": "code",
   "execution_count": null,
   "id": "ef094cdc-d572-4877-bf38-f2995dcc17fb",
   "metadata": {},
   "outputs": [],
   "source": [
    "df_cleaned.geo_country.value_counts()"
   ]
  },
  {
   "cell_type": "code",
   "execution_count": null,
   "id": "809dde8d-57f6-4089-8950-f693f96c5005",
   "metadata": {},
   "outputs": [],
   "source": [
    "# utm_campaign             407\n",
    "# utm_adcontent            281\n",
    "# device_category            3\n",
    "# device_brand             201\n",
    "# device_browser            55"
   ]
  },
  {
   "cell_type": "code",
   "execution_count": null,
   "id": "0ff33c81-ae7f-442c-b744-441966917c8f",
   "metadata": {},
   "outputs": [],
   "source": [
    "df_cleaned.utm_campaign.value_counts().to_list()"
   ]
  },
  {
   "cell_type": "code",
   "execution_count": null,
   "id": "b85ce351-e9d1-48d8-97e2-1cd3f97b444e",
   "metadata": {},
   "outputs": [],
   "source": [
    "num_unique_cities = (df_cleaned.utm_campaign.value_counts() <= 10).sum()\n",
    "num_unique_cities"
   ]
  },
  {
   "cell_type": "code",
   "execution_count": null,
   "id": "6bb068af-ea7a-469d-a157-11831e8fbdd7",
   "metadata": {},
   "outputs": [],
   "source": [
    "df_cleaned.utm_campaign.nunique()"
   ]
  },
  {
   "cell_type": "code",
   "execution_count": null,
   "id": "e8a4da33-90ae-4510-a891-42b60b28e58d",
   "metadata": {},
   "outputs": [],
   "source": [
    "utm_campaign_counts = df_try['utm_campaign'].value_counts()\n",
    "    \n",
    "df_try['utm_campaign_category'] = df_try['utm_campaign'].apply(lambda x: 'Rare' if utm_campaign_counts[x] <= 10 else 'Frequent')\n",
    "target_mean_by_category = df_try.groupby('utm_campaign_category')['event_action'].mean().reset_index()"
   ]
  },
  {
   "cell_type": "code",
   "execution_count": null,
   "id": "ef5fa8ea-3c10-45e7-bc15-f7d417f133d2",
   "metadata": {},
   "outputs": [],
   "source": [
    "plt.figure(figsize=(8, 6))\n",
    "sns.barplot(x='utm_campaign_category', y='event_action', data=target_mean_by_category)\n",
    "plt.ylabel('Frequency of Target Variable (1)')\n",
    "plt.title('Comparison of Target Variable Frequency Between Rare and Frequent')\n",
    "plt.show()"
   ]
  },
  {
   "cell_type": "code",
   "execution_count": null,
   "id": "fa223034-5f85-4427-99f0-ee4f688a28a2",
   "metadata": {},
   "outputs": [],
   "source": [
    "target_mean_by_category"
   ]
  },
  {
   "cell_type": "code",
   "execution_count": null,
   "id": "f993fb1e-d604-427a-93e7-7503c3dcc5e6",
   "metadata": {},
   "outputs": [],
   "source": [
    "df_cleaned.utm_campaign = df_cleaned.utm_campaign.apply(\n",
    "    lambda x: 'other_utm_campaign' if utm_campaign_counts[x] <= 10 else x)"
   ]
  },
  {
   "cell_type": "code",
   "execution_count": null,
   "id": "bdceb934-02c7-40ff-9b91-55ac6247593b",
   "metadata": {},
   "outputs": [],
   "source": [
    "df_cleaned.utm_campaign.value_counts()"
   ]
  },
  {
   "cell_type": "code",
   "execution_count": null,
   "id": "a8a37c03-c80d-4db3-8586-6fece5bc63a9",
   "metadata": {},
   "outputs": [],
   "source": [
    "df_cleaned.utm_adcontent.value_counts().to_list()"
   ]
  },
  {
   "cell_type": "code",
   "execution_count": null,
   "id": "6d51f821-0978-45b3-b46e-66766870a486",
   "metadata": {},
   "outputs": [],
   "source": [
    "num_unique_cities = (df_cleaned.utm_adcontent.value_counts() <= 1).sum()\n",
    "num_unique_cities"
   ]
  },
  {
   "cell_type": "code",
   "execution_count": null,
   "id": "044a7aa7-b4fc-4e0e-a11c-40891c7f1bad",
   "metadata": {},
   "outputs": [],
   "source": [
    "df_cleaned.utm_adcontent.nunique()"
   ]
  },
  {
   "cell_type": "code",
   "execution_count": null,
   "id": "eb2e03a0-cc9d-4f4d-a842-6d4242a56ffd",
   "metadata": {},
   "outputs": [],
   "source": [
    "utm_adcontent_counts = df_try['utm_adcontent'].value_counts()\n",
    "    \n",
    "df_try['utm_adcontent_category'] = df_try['utm_adcontent'].apply(lambda x: 'Rare' if utm_adcontent_counts[x] <= 6 else 'Frequent')\n",
    "target_mean_by_category = df_try.groupby('utm_adcontent_category')['event_action'].mean().reset_index()"
   ]
  },
  {
   "cell_type": "code",
   "execution_count": null,
   "id": "15e862d8-8702-4a6c-92f5-940467491745",
   "metadata": {},
   "outputs": [],
   "source": [
    "plt.figure(figsize=(8, 6))\n",
    "sns.barplot(x='utm_adcontent_category', y='event_action', data=target_mean_by_category)\n",
    "plt.ylabel('Frequency of Target Variable (1)')\n",
    "plt.title('Comparison of Target Variable Frequency Between Rare and Frequent')\n",
    "plt.show()"
   ]
  },
  {
   "cell_type": "code",
   "execution_count": null,
   "id": "fb28ba72-96f5-4ac5-bdee-650a5a487f85",
   "metadata": {},
   "outputs": [],
   "source": [
    "target_mean_by_category"
   ]
  },
  {
   "cell_type": "code",
   "execution_count": null,
   "id": "fbb0a75c-d54f-4d33-8deb-4f5abeb43f48",
   "metadata": {},
   "outputs": [],
   "source": [
    "df_cleaned.utm_adcontent = df_cleaned.utm_adcontent.apply(\n",
    "    lambda x: 'other_utm_adcontent' if utm_adcontent_counts[x] <= 6 else x)"
   ]
  },
  {
   "cell_type": "code",
   "execution_count": null,
   "id": "760c768a-b2d8-4737-8f67-6e952ff71aec",
   "metadata": {},
   "outputs": [],
   "source": [
    "df_cleaned.utm_adcontent.value_counts()"
   ]
  },
  {
   "cell_type": "code",
   "execution_count": null,
   "id": "a4236510-5f3a-4919-aa9d-5e0508a33bf5",
   "metadata": {},
   "outputs": [],
   "source": [
    "df_cleaned.device_brand.value_counts().to_list()"
   ]
  },
  {
   "cell_type": "code",
   "execution_count": null,
   "id": "a001b069-73d1-4be2-948c-d8281fc605c9",
   "metadata": {},
   "outputs": [],
   "source": [
    "num_unique = (df_cleaned.device_brand.value_counts() <= 10).sum()\n",
    "num_unique"
   ]
  },
  {
   "cell_type": "code",
   "execution_count": null,
   "id": "7f49250c-011e-492f-81b9-897619200f6d",
   "metadata": {},
   "outputs": [],
   "source": [
    "df_cleaned.device_brand.nunique()"
   ]
  },
  {
   "cell_type": "code",
   "execution_count": null,
   "id": "2668aaf3-d97e-4e52-9929-7217fa4b58ba",
   "metadata": {},
   "outputs": [],
   "source": [
    "# Считаем количество вхождений каждого города\n",
    "device_brand_counts = df_try['device_brand'].value_counts()\n",
    "    \n",
    "df_try['device_brand_category'] = df_try['device_brand'].apply(lambda x: 'Rare' if device_brand_counts[x] <= 1 else 'Frequent')\n",
    "target_mean_by_category = df_try.groupby('device_brand_category')['event_action'].mean().reset_index()"
   ]
  },
  {
   "cell_type": "code",
   "execution_count": null,
   "id": "7f2d399a-10fd-4833-b65c-84b48c95a761",
   "metadata": {},
   "outputs": [],
   "source": [
    "plt.figure(figsize=(8, 6))\n",
    "sns.barplot(x='device_brand_category', y='event_action', data=target_mean_by_category)\n",
    "plt.ylabel('Frequency of Target Variable (1)')\n",
    "plt.title('Comparison of Target Variable Frequency Between Rare and Frequent')\n",
    "plt.show()"
   ]
  },
  {
   "cell_type": "code",
   "execution_count": null,
   "id": "15dd0d84-2ffe-4c4c-aa05-157483baad09",
   "metadata": {},
   "outputs": [],
   "source": [
    "target_mean_by_category"
   ]
  },
  {
   "cell_type": "code",
   "execution_count": null,
   "id": "92f72e4a-b2e3-448e-a603-94b9d9c9273d",
   "metadata": {},
   "outputs": [],
   "source": [
    "df_cleaned.device_brand = df_cleaned.device_brand.apply(\n",
    "    lambda x: 'other_device_brand' if device_brand_counts[x] <= 1 else x)"
   ]
  },
  {
   "cell_type": "code",
   "execution_count": null,
   "id": "79dc8765-4469-4a90-8cc3-114319353b16",
   "metadata": {},
   "outputs": [],
   "source": [
    "df_cleaned.device_brand.value_counts()"
   ]
  },
  {
   "cell_type": "code",
   "execution_count": null,
   "id": "afd3c1d3-09c1-424f-84d2-0856e96b3344",
   "metadata": {},
   "outputs": [],
   "source": [
    "df_cleaned.head()"
   ]
  },
  {
   "cell_type": "code",
   "execution_count": null,
   "id": "eb340ee3-90ce-40d9-99dc-5180a2d4a8eb",
   "metadata": {},
   "outputs": [],
   "source": [
    "df_cleaned.info()"
   ]
  },
  {
   "cell_type": "code",
   "execution_count": null,
   "id": "b72be646-86d1-44a0-823b-a0c8c1578061",
   "metadata": {},
   "outputs": [],
   "source": [
    "df_cleaned.nunique()"
   ]
  },
  {
   "cell_type": "code",
   "execution_count": null,
   "id": "de7e2d15-7d3e-4c1d-af81-0a6a98f90018",
   "metadata": {},
   "outputs": [],
   "source": [
    "# тперь уникальных значений в каждой категории стало меньше"
   ]
  },
  {
   "cell_type": "code",
   "execution_count": null,
   "id": "25525947-0535-4211-be35-a877cc0ded79",
   "metadata": {},
   "outputs": [],
   "source": [
    "# все пустые значения обработаны и совершены преобразования в колонках "
   ]
  },
  {
   "cell_type": "code",
   "execution_count": null,
   "id": "527b208b-26f2-4c20-aabd-57b8125cc2be",
   "metadata": {},
   "outputs": [],
   "source": [
    "df_ready = df_cleaned.copy()"
   ]
  },
  {
   "cell_type": "markdown",
   "id": "f0484d78-4ab4-4f5c-8f25-c02ffcd3b775",
   "metadata": {},
   "source": [
    "### Data transformation"
   ]
  },
  {
   "cell_type": "code",
   "execution_count": null,
   "id": "183dce02-53d1-4e4d-b69c-7eb6d2829ee6",
   "metadata": {},
   "outputs": [],
   "source": [
    "df_ready.head()"
   ]
  },
  {
   "cell_type": "code",
   "execution_count": null,
   "id": "4437718f-1e47-4ef0-84d5-b2e6d39509e9",
   "metadata": {},
   "outputs": [],
   "source": [
    "df_ready.info()"
   ]
  },
  {
   "cell_type": "code",
   "execution_count": null,
   "id": "59352084-3045-4c43-a70c-8fd6529084a7",
   "metadata": {},
   "outputs": [],
   "source": [
    "df_ready.nunique()"
   ]
  },
  {
   "cell_type": "code",
   "execution_count": null,
   "id": "1b74fadd-faa2-4535-932d-fe97a5a08dca",
   "metadata": {},
   "outputs": [],
   "source": [
    "# преобразуем все данные в категориаьные"
   ]
  },
  {
   "cell_type": "code",
   "execution_count": null,
   "id": "a6f0d562-e4f5-4946-9d4a-cbc5c439ac27",
   "metadata": {},
   "outputs": [],
   "source": [
    "df_ready = df_ready.astype('category')\n",
    "df_ready.info()"
   ]
  },
  {
   "cell_type": "code",
   "execution_count": null,
   "id": "b26e8c5e-aeeb-47f9-b368-11c0976367e2",
   "metadata": {},
   "outputs": [],
   "source": [
    "df_transformed = df_ready.copy()"
   ]
  },
  {
   "cell_type": "code",
   "execution_count": null,
   "id": "259faf47-7bca-4867-8f82-efffa1a7830c",
   "metadata": {},
   "outputs": [],
   "source": [
    "# на этом этапе этап EDA закончен"
   ]
  },
  {
   "cell_type": "markdown",
   "id": "9e135636-531d-49dc-a1d3-e4b1c2b7aa4b",
   "metadata": {},
   "source": [
    "# Feature engineering "
   ]
  },
  {
   "cell_type": "code",
   "execution_count": null,
   "id": "f5da3849-26f9-4a1c-ac10-f711fb7cba0c",
   "metadata": {},
   "outputs": [],
   "source": [
    "# начну с того, что создам две новые переменные на основе device_screen_resolution"
   ]
  },
  {
   "cell_type": "code",
   "execution_count": null,
   "id": "9c0afa7a-bf28-49f0-b411-e581651b6ac1",
   "metadata": {},
   "outputs": [],
   "source": [
    "df_transformed['device_screen_width'] = df_transformed['device_screen_resolution'].apply(lambda x: int(x.split('x')[0]))"
   ]
  },
  {
   "cell_type": "code",
   "execution_count": null,
   "id": "3b4ecaa8-4fa3-4717-b220-77bac08d1072",
   "metadata": {},
   "outputs": [],
   "source": [
    "df_transformed['device_screen_height'] = df_transformed['device_screen_resolution'].apply(\n",
    "    lambda x: int(x.split('x')[1]) if 'x' in x and len(x.split('x')) == 2 else 'other')"
   ]
  },
  {
   "cell_type": "code",
   "execution_count": null,
   "id": "6824cc5b-4974-43f5-895c-64a4bc676051",
   "metadata": {},
   "outputs": [],
   "source": [
    "df_transformed.head()"
   ]
  },
  {
   "cell_type": "code",
   "execution_count": null,
   "id": "26e29cb8-dc69-49c0-95c9-86480d8b764f",
   "metadata": {},
   "outputs": [],
   "source": [
    "df_transformed.info()"
   ]
  },
  {
   "cell_type": "code",
   "execution_count": null,
   "id": "43efc6e3-c972-4748-a269-699c0faf26b2",
   "metadata": {},
   "outputs": [],
   "source": [
    "# удалим уже ненужный признак device_screen_resolution"
   ]
  },
  {
   "cell_type": "code",
   "execution_count": null,
   "id": "0bd43e59-d0b2-42bd-8160-58453d5a4cc1",
   "metadata": {},
   "outputs": [],
   "source": [
    "df_transformed = df_transformed.drop(columns=['device_screen_resolution'])"
   ]
  },
  {
   "cell_type": "code",
   "execution_count": null,
   "id": "8882d411-d33d-476e-a9f2-0a844870ec59",
   "metadata": {},
   "outputs": [],
   "source": [
    "df_transformed.info()"
   ]
  },
  {
   "cell_type": "code",
   "execution_count": null,
   "id": "354d1b67-023b-4581-91bb-479569101c71",
   "metadata": {},
   "outputs": [],
   "source": [
    "df_transformed.utm_medium.value_counts()"
   ]
  },
  {
   "cell_type": "code",
   "execution_count": null,
   "id": "cf0dba55-260c-47eb-a7f5-cf06321b23ea",
   "metadata": {},
   "outputs": [],
   "source": [
    "# создадим две новые фичи на основе utm_medium, где ('organic', 'referral', '(none)') это органический трафик\n",
    "# соответственно остальное это платный трафик"
   ]
  },
  {
   "cell_type": "code",
   "execution_count": null,
   "id": "f22feee5-fe65-4838-8ab1-b74d7f4f28f3",
   "metadata": {},
   "outputs": [],
   "source": [
    "df_transformed['free_trafic'] = df_transformed.utm_medium.apply(\n",
    "    lambda x: 1 if x in ['organic', 'referral', '(none)'] else 0)"
   ]
  },
  {
   "cell_type": "code",
   "execution_count": null,
   "id": "bbd81336-15f3-429a-9d13-a70c7f6452d8",
   "metadata": {},
   "outputs": [],
   "source": [
    "df_transformed['payed_trafic'] = df_transformed.utm_medium.apply(\n",
    "    lambda x: 1 if x not in ['organic', 'referral', '(none)'] else 0)"
   ]
  },
  {
   "cell_type": "code",
   "execution_count": null,
   "id": "299ed1e6-f300-4b9d-ae6f-00715439334e",
   "metadata": {},
   "outputs": [],
   "source": [
    "df_transformed.info()"
   ]
  },
  {
   "cell_type": "code",
   "execution_count": null,
   "id": "831a38fd-67c8-4d1f-b681-04d37d8dbcde",
   "metadata": {},
   "outputs": [],
   "source": [
    "df_transformed.head()"
   ]
  },
  {
   "cell_type": "code",
   "execution_count": null,
   "id": "62c5b495-c75c-42d9-89d9-b94f63785488",
   "metadata": {},
   "outputs": [],
   "source": [
    "# создадим две новые фичи на основе по трафику из рекламы в социальных сетях и наоборот (utm_source)"
   ]
  },
  {
   "cell_type": "code",
   "execution_count": null,
   "id": "477f5e7b-8b84-4115-b73b-f91237febd58",
   "metadata": {},
   "outputs": [],
   "source": [
    "df_transformed['soc_mdeia_adv'] = df_transformed.utm_source.apply(\n",
    "    lambda x: 1 if x in ('QxAxdyPLuQMEcrdZWdWb', 'MvfHsxITijuriZxsqZqt',\n",
    "                         'ISrKoXQCxqqYvAZICvjs', 'IZEXUFLARCUMynmHNBGo',\n",
    "                         'PlbkrSYoHuZBWfYjYnfw', 'gVRrcxiDQubJiljoTbGm') else 0)"
   ]
  },
  {
   "cell_type": "code",
   "execution_count": null,
   "id": "e1f1a865-4f37-4533-bb0d-0cd7f2895786",
   "metadata": {},
   "outputs": [],
   "source": [
    "df_transformed['other_adv'] = df_transformed.utm_source.apply(\n",
    "    lambda x: 1 if x not in ('QxAxdyPLuQMEcrdZWdWb', 'MvfHsxITijuriZxsqZqt',\n",
    "                         'ISrKoXQCxqqYvAZICvjs', 'IZEXUFLARCUMynmHNBGo',\n",
    "                         'PlbkrSYoHuZBWfYjYnfw', 'gVRrcxiDQubJiljoTbGm') else 0)"
   ]
  },
  {
   "cell_type": "code",
   "execution_count": null,
   "id": "9815d372-06bb-4da1-bf60-23186d3bba3a",
   "metadata": {},
   "outputs": [],
   "source": [
    "df_transformed.head()"
   ]
  },
  {
   "cell_type": "code",
   "execution_count": null,
   "id": "5fb90b90-a1b3-4673-957e-19f0eb1ccc64",
   "metadata": {},
   "outputs": [],
   "source": [
    "df_transformed.info()"
   ]
  },
  {
   "cell_type": "code",
   "execution_count": null,
   "id": "e58a5702-bd5d-41a3-aa01-e259e62db0e6",
   "metadata": {},
   "outputs": [],
   "source": [
    "df_transformed.nunique()"
   ]
  },
  {
   "cell_type": "code",
   "execution_count": null,
   "id": "37856337-2b5b-48d8-9d3c-8fee0e770b24",
   "metadata": {},
   "outputs": [],
   "source": [
    "# избавимся от лишних колонок"
   ]
  },
  {
   "cell_type": "code",
   "execution_count": null,
   "id": "da31c804-dd56-4b55-bab6-f321f700fb20",
   "metadata": {},
   "outputs": [],
   "source": [
    "df_transformed = df_transformed.drop(columns=['utm_source', 'utm_medium'])"
   ]
  },
  {
   "cell_type": "code",
   "execution_count": null,
   "id": "35f36620-17e5-498a-8eeb-30f893c1de5b",
   "metadata": {},
   "outputs": [],
   "source": [
    "df_transformed.info()"
   ]
  },
  {
   "cell_type": "code",
   "execution_count": null,
   "id": "8ad6fea6-e1c6-443e-9acc-61fe2ea9de3e",
   "metadata": {},
   "outputs": [],
   "source": []
  },
  {
   "cell_type": "code",
   "execution_count": null,
   "id": "454eb884-497b-4c63-aec7-f80beb5f981d",
   "metadata": {},
   "outputs": [],
   "source": [
    "df_transformed.event_action.value_counts()"
   ]
  },
  {
   "cell_type": "code",
   "execution_count": null,
   "id": "f7700c3b-62c5-417c-843b-58ca0ef07724",
   "metadata": {},
   "outputs": [],
   "source": []
  }
 ],
 "metadata": {
  "kernelspec": {
   "display_name": "Python 3 (ipykernel)",
   "language": "python",
   "name": "python3"
  },
  "language_info": {
   "codemirror_mode": {
    "name": "ipython",
    "version": 3
   },
   "file_extension": ".py",
   "mimetype": "text/x-python",
   "name": "python",
   "nbconvert_exporter": "python",
   "pygments_lexer": "ipython3",
   "version": "3.11.7"
  }
 },
 "nbformat": 4,
 "nbformat_minor": 5
}
